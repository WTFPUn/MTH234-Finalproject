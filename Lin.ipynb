{
 "cells": [
  {
   "attachments": {},
   "cell_type": "markdown",
   "metadata": {},
   "source": [
    "# Linear Algebra Final Project: Infected Decease Model"
   ]
  },
  {
   "attachments": {},
   "cell_type": "markdown",
   "metadata": {},
   "source": [
    "## 1. Introduction\n",
    "โปรเจคนี้เป็นการนำเสนอและวิเคราะห์อัตราการแพร่เชื้อด้วยคณิตศาสตร์ โดยจะกำหนดให้ \n",
    "- **s<sub>t</sub>** แทนเปอร์เซ็นต์ของประชากรทั้งหมดที่มีความเสี่ยงที่จะติดเชื้อ ณเวลา t\n",
    "- **i<sub>t</sub>** แทนเปอร์เซ็นต์ของประชากรที่ติดเชื้อ ณเวลา t\n",
    "- **r<sub>t</sub>** แทนเปอร์เซ็นต์ของประชากรที่หายแล้ว ณเวลา t\n",
    "\n",
    "ซึ่งอัตราการเปลี่ยนสถานะการติดเชื้อของประชากรคือ\n",
    "$$\n",
    "  s_{t} = 0.95s_{t-1} +   0i_{t-1}  + 0.15r_{t-1}\\\\\n",
    "  i_{t} = 0.05s_{t-1} + 0.80i_{t-1} + 0r_{t-1} \\\\\n",
    "  r_{t} = 0s_{t-1}    + 0.20i_{t-1} + 0.85r_{t-1}\n",
    "$$\n",
    "ซึ่งจากสมการข้างต้นสามารถอธิบายได้ว่า\n",
    "- ในรอบสัปดาห์ที่ t จำนวนผู้ที่เสี่ยงต่อการติดเชื้อจะเท่ากับ 95%ของผู้ที่มีความเสี่ยงสูงที่จะติดเชื้อจากสัปดาห์ก่อน ร่วมกับ15%ของผู้ที่หายจากการติดเชื้อจากสัปดาห์ก่อน\n",
    "- ในรอบสัปดาห์ที่ t จำนวนผู้ที่ติดเชื้อจะเท่ากับ 5%ของผู้ที่มีความเสี่ยงสูงที่จะติดเชื้อจากสัปดาห์ก่อน ร่วมกับ 80%ของผู้ที่ติดเชื้อจากสัปดาห์ก่อน\n",
    "- ในรอบสัปดาห์ที่ t จำนวนผู้ที่หายจะเท่ากับ 20%ของผู้ที่ติดเชื้อจากสัปดาห์ก่อน ร่วมกับ 85%ของผู้ที่หายจากการติดเชื้อจากสัปดาห์ก่อน\n",
    "\n",
    "โดยสมการข้างต้นสามารถเขียนเป็นรูปของ matrix ได้ดังนี้\n",
    "$$\n",
    "A =  \\begin{bmatrix}\n",
    "0.95 & 0 & 0.15\\\\\n",
    "0.05 & 0.80 & 0\\\\\n",
    "0 & 0.20 & 0.85\n",
    "\\end{bmatrix}\n",
    "$$"
   ]
  },
  {
   "attachments": {},
   "cell_type": "markdown",
   "metadata": {},
   "source": [
    "## 2. การหาผู้ติดเชื้อของสัปดาห์ต่อๆไป\n",
    "สำหรับการหาผู้ติดเชื้อของสัปดาห์ต่อๆไปเมื่อ $X_{0}$ คือค่าสถาณะการติดเชื้อเริ่มต้นซึ่งมีค่าเป็น $\\begin{bmatrix} 0.95\\\\ 0.05\\\\ 0 \\end{bmatrix} $ โดยจะใช้สมการ  $s_{t} = As_{t-1}$ ซึ่งสามารถเขียนเป็นรูปของ matrix ได้ดังนี้\n",
    "$$\n",
    "X_{t} = AX_{0} \\\\\n",
    "X_{t} = \\begin{bmatrix}\n",
    "0.95 & 0 & 0.15\\\\\n",
    "0.05 & 0.80 & 0\\\\\n",
    "0 & 0.20 & 0.85\n",
    "\\end{bmatrix} \\begin{bmatrix} 0.95\\\\ 0.05\\\\ 0 \\end{bmatrix} = AX_{t-1}\n",
    "$$\n",
    "โดยสามารถเขียนโค้ดเพื่อหาค่าของ $X_{t}$ ได้ดังนี้"
   ]
  },
  {
   "cell_type": "code",
   "execution_count": 1,
   "metadata": {},
   "outputs": [],
   "source": [
    "import numpy as np\n",
    "A = np.array([[0.95, 0, 0.15],[0.05,0.8,0],[0,0.2,0.85]])\n",
    "## X at time 0\n",
    "X_0 = np.array([[0.95],[0.05],[0]])"
   ]
  },
  {
   "attachments": {},
   "cell_type": "markdown",
   "metadata": {},
   "source": [
    "จากโค้ดข้างต้นเป็นขั้นตอนการเริ่มต้นการคำนวณหาสถานะผู้ติดเชื้อโดย\n",
    "```python\n",
    "A = np.array([[0.95, 0, 0.15], [0.05, 0.80, 0], [0, 0.20, 0.85]])\n",
    "```\n",
    "เป็นการตั้งmatrix A โดยมีค่าตามที่กล่าวไว้ในหัวข้อที่ 1 และ\n",
    "```python\n",
    "X0 = np.array([[0.95], [0.05], [0]])\n",
    "```\n",
    "เป็นการตั้งค่าสถานะติดเชื้อเริ่มต้น โดยมีค่าตามที่กล่าวไว้ในหัวข้อที่ 1\n",
    "\n",
    "จากนั้นทำการทดลองหาค่าสถาณะการติดเชื้อในสัปดาห์ที่ 1จาก\n",
    "$$\n",
    "X_{1} = AX_{0} = A \\begin{bmatrix} 0.95\\\\ 0.05\\\\ 0 \\end{bmatrix} = A \\begin{bmatrix} 0.95\\\\ 0.05\\\\ 0 \\end{bmatrix}"
   ]
  },
  {
   "cell_type": "code",
   "execution_count": 2,
   "metadata": {},
   "outputs": [
    {
     "data": {
      "text/plain": [
       "array([[0.9025],\n",
       "       [0.0875],\n",
       "       [0.01  ]])"
      ]
     },
     "execution_count": 2,
     "metadata": {},
     "output_type": "execute_result"
    }
   ],
   "source": [
    "X_1 = A@X_0\n",
    "X_1"
   ]
  },
  {
   "attachments": {},
   "cell_type": "markdown",
   "metadata": {},
   "source": [
    "ทดลองทำการการสัปดาห์ที่สอง และสามจากสมการ\n",
    "$$\n",
    "X_{2} = AX_{1} = A \\begin{bmatrix} 0.95\\\\ 0.05\\\\ 0 \\end{bmatrix} = A \\begin{bmatrix} 0.95\\\\ 0.05\\\\ 0 \\end{bmatrix} \\\\\n",
    "และ \\\\\n",
    "X_{3} = AX_{2} = A \\begin{bmatrix} 0.95\\\\ 0.05\\\\ 0 \\end{bmatrix} = A \\begin{bmatrix} 0.95\\\\ 0.05\\\\ 0 \\end{bmatrix}\n",
    "$$"
   ]
  },
  {
   "cell_type": "code",
   "execution_count": 3,
   "metadata": {},
   "outputs": [
    {
     "data": {
      "text/plain": [
       "array([[0.858875],\n",
       "       [0.115125],\n",
       "       [0.026   ]])"
      ]
     },
     "execution_count": 3,
     "metadata": {},
     "output_type": "execute_result"
    }
   ],
   "source": [
    "X_2 = A@X_1\n",
    "X_2"
   ]
  },
  {
   "cell_type": "code",
   "execution_count": 4,
   "metadata": {},
   "outputs": [
    {
     "data": {
      "text/plain": [
       "array([[0.81983125],\n",
       "       [0.13504375],\n",
       "       [0.045125  ]])"
      ]
     },
     "execution_count": 4,
     "metadata": {},
     "output_type": "execute_result"
    }
   ],
   "source": [
    "X_3 = A@X_2\n",
    "X_3"
   ]
  },
  {
   "attachments": {},
   "cell_type": "markdown",
   "metadata": {},
   "source": [
    "ซึ่งจากการหา $X_{2} $ และ $ X_{3}$ สามารถเขียนเป็นสมการได้ตามสมการด้านล่าง\n",
    "$$\n",
    "X_{1} = AX_{0} \\\\\n",
    "X_{2} = AX_{1} = AAX_{0} = A^{2}X_{0}\\\\\n",
    "X_{3} = AX_{2} = AAX_{2} = A^{3}X_{0}\\\\\n",
    "$$\n",
    "ซึ่งจากรูปแบบที่กล่าวข้างต้นสามารถเขียนเป็นรูปทั่วไปได้ดังนี้\n",
    "$$\n",
    "X_{t} = A^{t}X_{0}\n",
    "$$\n",
    "\n",
    "ซึ่งเราสามารถประยุกต์สมการข้างต้นไปใช้ในการเขียนโค้ดได้ตาม cellด้านล่าง"
   ]
  },
  {
   "cell_type": "code",
   "execution_count": 5,
   "metadata": {},
   "outputs": [
    {
     "data": {
      "text/plain": [
       "array([[0.858875],\n",
       "       [0.115125],\n",
       "       [0.026   ]])"
      ]
     },
     "execution_count": 5,
     "metadata": {},
     "output_type": "execute_result"
    }
   ],
   "source": [
    "X = np.array([[0.95],[0.05],[0]])\n",
    "def findXt(A, X, t):\n",
    "  for i in range(t):\n",
    "    X = A@X\n",
    "  return X\n",
    "findXt(A, X, 2)"
   ]
  },
  {
   "attachments": {},
   "cell_type": "markdown",
   "metadata": {},
   "source": [
    "สำหรับรูปแบบสมการข้างต้นสามารถเปรียบเทียบได้กับการทำแปลงเชิงเส้นหรือสามารถเขียนเป็นรูปสมการได้ดังนี้\n",
    "$$\n",
    "ให้ \\quad T: \\mathbb{M_{3x1}} \\rightarrow \\mathbb{M_{3x1}} \\quad เป็นการแปลงเชิงเส้นซึ่ง \\\\\n",
    "T(X_{t}) = A^{t}X_{0} \\\\  \n",
    "$$\n",
    "\n",
    "ซึ่งการแปลงเชิงเส้นรุปแบบนี้ ยิ่งมีค่าเวลาผ่านไปนานขึ้นหรือจำนวนtสูงขึ้นจะมีผลทำให้เวลาในการหาค่าของสมการเพิ่มขึ้นเรื่อยๆโดยเราสามารถประยุกต์ **eigen value** และ **eigen vector** ในการหาเมทริกซ์สถานะการติดเชื้อของสัปดาห์นั้นๆได้"
   ]
  },
  {
   "cell_type": "code",
   "execution_count": null,
   "metadata": {},
   "outputs": [],
   "source": []
  },
  {
   "attachments": {},
   "cell_type": "markdown",
   "metadata": {},
   "source": [
    "## 3.การหาผู้ติดเชื้อในสัปดาห์ต่อๆไปด้วย Eigen Value และ Eigen Vector\n",
    "สำหรับการหาค่าสถาณะการติดเชื้อในสัปดาห์ต่อๆไปนั้นจำเป็นจะต้องเข้าใจการใช้งานค่าเจาะจง และเวคเตอร์เจาะจงเสียก่อน <br>\n",
    "โดยให้ $ T: V \\rightarrow V $ เป็นการแปลงเชิงเส้นบนปริภูมิเวคเตอร์ V และจะเรียก $ \\lambda \\in  \\mathbb{F} $ ว่า **ค่าเจาะจง(Eigen Value)** ของ T ถ้ามีเวคเตอร์ $ v \\in V $ ที่ไม่ใช่เวคเตอร์ศูนย์ซึ่ง\n",
    "$$\n",
    "T(v) = \\lambda V\n",
    "$$\n",
    "\n",
    "ซึ่งในการเขียนโปรแกรม เราสามารถใช้method ของ`numpy` ในการหา **Eigen Value** และ **Eigen Vector** ได้ซึ่งในการทดลองครั้งนี้ จะใช้การทำ **diagonalization(D)** ในการหา A เพื่อนำไปแทนในฟังก์ชั่น การแปลงเชิงเส้นโดยที่\n",
    "$$\n",
    "D = P^{-1}AP\n",
    "$$\n",
    "ซึ่งในกรณีนี้เราจำเป็นต้องหา A แทน D จึงทำการคูณข้างหน้าด้วย P และคูณด้านหลังด้วย P<sup>-1</sup>ทำให้ได้สมการดังต่อไปนี้\n",
    "$$\n",
    "D = P^{-1}AP \\\\\n",
    "PD = PP^{-1}AP = AP \\\\\n",
    "PDP^{-1} = APP^{-1} = A\\\\\n",
    "\\therefore A = PDP^{-1}\n",
    "$$\n",
    "\n",
    "จากนั้นนำ A ไปแทนในสมการที่กล่าวไปในหัวข้อที่2. จาก\n",
    "$$\n",
    "X_{t} = A^{t}X_{0} \\\\\n",
    "$$\n",
    "แทน A ด้วย $ PDP^{-1} $ โดยการยกกำลังด้วย t นั้นสามารถทำการยกกำลัง t แทนได้ภายในเมริกซ์ทแยง(D)จาก\n",
    "$$\n",
    "A^{k} = PD^{k}P^{-1}\n",
    "เมื่อ D = \\begin{bmatrix}\n",
    "\\lambda^k_1 & 0 & ... & 0\\\\\n",
    "0 & \\lambda^k_2 & ... & 0\\\\\n",
    "... & ... & ... & ... \\\\\n",
    "0 & 0 & ... & \\lambda^k_n\n",
    "\\end{bmatrix}\n",
    "$$\n",
    "\n",
    "โดยเริ่มต้นจากการหาค่า **Eigen Value** และ **Eigen Vector** จากฟังก์ชั่นด้านล่าง"
   ]
  },
  {
   "cell_type": "code",
   "execution_count": 6,
   "metadata": {},
   "outputs": [],
   "source": [
    "eigenVal, eigenVec = np.linalg.eig(A)"
   ]
  },
  {
   "cell_type": "code",
   "execution_count": 7,
   "metadata": {},
   "outputs": [
    {
     "data": {
      "text/plain": [
       "array([1. +0.j        , 0.8+0.08660254j, 0.8-0.08660254j])"
      ]
     },
     "execution_count": 7,
     "metadata": {},
     "output_type": "execute_result"
    }
   ],
   "source": [
    "eigenVal"
   ]
  },
  {
   "attachments": {},
   "cell_type": "markdown",
   "metadata": {},
   "source": [
    "ทำการตั้งค่า `P` ให้เท่ากับค่าของ `eigenVec` ที่ออกมาจากฟังก์ชั่นด้านบน"
   ]
  },
  {
   "cell_type": "code",
   "execution_count": 8,
   "metadata": {},
   "outputs": [],
   "source": [
    "P = eigenVec"
   ]
  },
  {
   "attachments": {},
   "cell_type": "markdown",
   "metadata": {},
   "source": [
    "หา $ P^{-1}$ ด้วย `numpy.linalg.inv()`"
   ]
  },
  {
   "cell_type": "code",
   "execution_count": 9,
   "metadata": {},
   "outputs": [],
   "source": [
    "PInverse = np.linalg.inv(P)"
   ]
  },
  {
   "cell_type": "code",
   "execution_count": 10,
   "metadata": {},
   "outputs": [
    {
     "data": {
      "text/plain": [
       "array([[-0.68421053+6.01370805e-17j, -0.68421053-1.20274161e-16j,\n",
       "        -0.68421053+6.01370805e-17j],\n",
       "       [-0.14886459+3.43788034e-01j, -0.14886459-1.28920513e+00j,\n",
       "         0.5582422 -6.44602564e-02j],\n",
       "       [-0.14886459-3.43788034e-01j, -0.14886459+1.28920513e+00j,\n",
       "         0.5582422 +6.44602564e-02j]])"
      ]
     },
     "execution_count": 10,
     "metadata": {},
     "output_type": "execute_result"
    }
   ],
   "source": [
    "PInverse"
   ]
  },
  {
   "attachments": {},
   "cell_type": "markdown",
   "metadata": {},
   "source": [
    "จากนั้นนำ ค่า**Eigen Value** ที่ได้แทนเข้าไปที่ตำแหน่งตามแนวทแยงแล้วแทนด้วยตัวแปร D และสร้างฟังก์ชั่นที่สามารถยกกำลังค่าด้านใน Dได้ด้วยฟังก์ชั่น\n",
    "```python\n",
    "def SetLanbda(D, exp):\n",
    "  ...\n",
    "  return newD\n",
    "```\n",
    "โดยที่ส่งparameter D ที่เป็นเมทริกซ์ทแยงเริ่ม้น และ exp เป็นเลขที่ต้องการจะยกกำลัง หรือ t"
   ]
  },
  {
   "cell_type": "code",
   "execution_count": 11,
   "metadata": {},
   "outputs": [],
   "source": [
    "D = np.array([[eigenVal[0], 0, 0],\n",
    "            [0, eigenVal[1], 0],\n",
    "            [0, 0, eigenVal[2]]])\n",
    "def SetLambda(D: np.array,exp: int):\n",
    "  newD = np.copy(D)\n",
    "  newD[0][0] = newD[0][0]**exp\n",
    "  newD[1][1] = newD[1][1]**exp\n",
    "  newD[2][2] = newD[2][2]**exp\n",
    "  return newD"
   ]
  },
  {
   "cell_type": "code",
   "execution_count": 12,
   "metadata": {},
   "outputs": [
    {
     "data": {
      "text/plain": [
       "array([[1.    +0.j        , 0.    +0.j        , 0.    +0.j        ],\n",
       "       [0.    +0.j        , 0.6325+0.13856406j, 0.    +0.j        ],\n",
       "       [0.    +0.j        , 0.    +0.j        , 0.6325-0.13856406j]])"
      ]
     },
     "execution_count": 12,
     "metadata": {},
     "output_type": "execute_result"
    }
   ],
   "source": [
    "Dexp2 = SetLambda(D, 2)\n",
    "Dexp2"
   ]
  },
  {
   "attachments": {},
   "cell_type": "markdown",
   "metadata": {},
   "source": [
    "นำค่าที่ได้มาทุกค่ามาทำการคูณกันตามรูปสามการ\n",
    "$$\n",
    " X_{t} = AX_{0} \\\\\n",
    " X_{t} = PD^{t}P^{-1}X_{0}\n",
    "$$"
   ]
  },
  {
   "cell_type": "code",
   "execution_count": 13,
   "metadata": {},
   "outputs": [],
   "source": [
    "Xt = P@Dexp2@PInverse@X_0"
   ]
  },
  {
   "cell_type": "code",
   "execution_count": 14,
   "metadata": {},
   "outputs": [
    {
     "data": {
      "text/plain": [
       "array([[0.95  +0.j        ],\n",
       "       [0.0247+0.00828137j],\n",
       "       [0.    +0.j        ]])"
      ]
     },
     "execution_count": 14,
     "metadata": {},
     "output_type": "execute_result"
    }
   ],
   "source": [
    "D = np.array([[eigenVal[0]**3, 0, 0],\n",
    "            [0, eigenVal[1]**3, 0],\n",
    "            [0, 0, eigenVal[2]**3]])\n",
    "  \n",
    "X_3Eigen = D@X_0\n",
    "X_3Eigen.real\n",
    "\n",
    "X_3Eigen"
   ]
  },
  {
   "attachments": {},
   "cell_type": "markdown",
   "metadata": {},
   "source": [
    "## 4. ตอบคำถามท้ายการทดลอง"
   ]
  },
  {
   "attachments": {},
   "cell_type": "markdown",
   "metadata": {},
   "source": [
    "1. ระหว่างการหา X<sub>t</sub> ด้วยการแปลงเชิงเส้นธรรมดา เทียบกับการใช้ **Eigen Value** และ **Eigen Vector** แบบใดมีประวิทธิภาพมากกว่ากัน <br>\n",
    "**คำตอบ** การแปลงเชิงเส้นแบบธรรมดานั้นจะมีประสิธิภาพมากกว่าเมื่อมีจำนวน tที่น้อยมากๆ แต่การใช้**Eigen Value** และ **Eigen Vector** จะมีประสิทธิภาพเมื่อt มีค่าที่สูงมากๆ"
   ]
  },
  {
   "cell_type": "code",
   "execution_count": 15,
   "metadata": {},
   "outputs": [],
   "source": [
    "import time"
   ]
  },
  {
   "attachments": {},
   "cell_type": "markdown",
   "metadata": {},
   "source": [
    "เทียบเวลาเมื่อต้องการหา t ที่ค่า 5"
   ]
  },
  {
   "cell_type": "code",
   "execution_count": 16,
   "metadata": {},
   "outputs": [
    {
     "name": "stdout",
     "output_type": "stream",
     "text": [
      "\u001b[4mtransformation\u001b[00m runtime when t= 5: \u001b[92m 68700 \u001b[00m ns\n",
      "Value: [[0.75613277]\n",
      " [0.15850167]\n",
      " [0.08536556]] \n"
     ]
    }
   ],
   "source": [
    "X = np.array([[0.95],[0.05],[0]])\n",
    "A = np.array([[0.95, 0, 0.15],[0.05,0.8,0],[0,0.2,0.85]])\n",
    "def findXt(A, X, t):\n",
    "  for i in range(t):\n",
    "    X = A@X\n",
    "  return X\n",
    "t5TransformationStart = time.perf_counter_ns()\n",
    "outt5Trans = findXt(A, X, 5)\n",
    "t5TransformationEnd = time.perf_counter_ns()\n",
    "t5TransTime = t5TransformationEnd - t5TransformationStart\n",
    "print(f\"\\033[4mtransformation\\033[00m runtime when t= 5: \\033[92m {t5TransTime} \\033[00m ns\")\n",
    "print(f\"Value: {outt5Trans} \")"
   ]
  },
  {
   "cell_type": "code",
   "execution_count": 17,
   "metadata": {},
   "outputs": [
    {
     "name": "stdout",
     "output_type": "stream",
     "text": [
      "\u001b[4mEigen Application\u001b[00m runtime when t= 5: \u001b[92m 263300 \u001b[00m ns\n",
      "Value: [[0.75613277-5.94747708e-17j]\n",
      " [0.15850167-1.36901072e-19j]\n",
      " [0.08536556-2.13000639e-17j]] \n"
     ]
    }
   ],
   "source": [
    "X0 = np.array([[0.95],[0.05],[0]])\n",
    "A = np.array([[0.95, 0, 0.15],[0.05,0.8,0],[0,0.2,0.85]])\n",
    "t5EigenStart = time.perf_counter_ns()\n",
    "eigenVal, eigenVec = np.linalg.eig(A)\n",
    "Pt5 = eigenVec\n",
    "Pt5Inv = np.linalg.inv(Pt5)\n",
    "D = np.array([[eigenVal[0], 0, 0],\n",
    "            [0, eigenVal[1], 0],\n",
    "            [0, 0, eigenVal[2]]])\n",
    "Dexpt = SetLambda(D, 5)\n",
    "outt5Eigen = Pt5@Dexpt@Pt5Inv@X0\n",
    "t5EigenEnd = time.perf_counter_ns()\n",
    "t5EigenTime = t5EigenEnd - t5EigenStart\n",
    "print(f\"\\033[4mEigen Application\\033[00m runtime when t= 5: \\033[92m {t5EigenTime} \\033[00m ns\")\n",
    "print(f\"Value: {outt5Eigen} \")"
   ]
  },
  {
   "attachments": {},
   "cell_type": "markdown",
   "metadata": {},
   "source": [
    "เทียบเวลาเมื่อต้องการหา t ที่ค่า 500000"
   ]
  },
  {
   "cell_type": "code",
   "execution_count": 18,
   "metadata": {},
   "outputs": [
    {
     "name": "stdout",
     "output_type": "stream",
     "text": [
      "\u001b[4mtransformation\u001b[00m runtime when t= 500000: \u001b[92m 381838800 \u001b[00m ns\n",
      "Value: [[0.63157895]\n",
      " [0.15789474]\n",
      " [0.21052632]] \n"
     ]
    }
   ],
   "source": [
    "X = np.array([[0.95],[0.05],[0]])\n",
    "A = np.array([[0.95, 0, 0.15],[0.05,0.8,0],[0,0.2,0.85]])\n",
    "def findXt(A, X, t):\n",
    "  for i in range(t):\n",
    "    X = A@X\n",
    "  return X\n",
    "t500kTransformationStart = time.perf_counter_ns()\n",
    "outt500kEigen = findXt(A, X, 500000)\n",
    "t500kTransformationEnd = time.perf_counter_ns()\n",
    "t500kTransTime = t500kTransformationEnd - t500kTransformationStart\n",
    "print(f\"\\033[4mtransformation\\033[00m runtime when t= 500000: \\033[92m {t500kTransTime} \\033[00m ns\")\n",
    "print(f\"Value: {outt500kEigen} \")"
   ]
  },
  {
   "cell_type": "code",
   "execution_count": 19,
   "metadata": {},
   "outputs": [
    {
     "name": "stdout",
     "output_type": "stream",
     "text": [
      "\u001b[4mEigen Application\u001b[00m runtime when t= 500000: \u001b[92m 269200 \u001b[00m ns\n",
      "Value: [[0.75613277-5.94747708e-17j]\n",
      " [0.15850167-1.36901072e-19j]\n",
      " [0.08536556-2.13000639e-17j]] \n"
     ]
    }
   ],
   "source": [
    "X0 = np.array([[0.95],[0.05],[0]])\n",
    "A = np.array([[0.95, 0, 0.15],[0.05,0.8,0],[0,0.2,0.85]])\n",
    "t500kEigenStart = time.perf_counter_ns()\n",
    "eigenVal, eigenVec = np.linalg.eig(A)\n",
    "Pt500k = eigenVec\n",
    "Pt500kInv = np.linalg.inv(Pt5)\n",
    "D = np.array([[eigenVal[0], 0, 0],\n",
    "            [0, eigenVal[1], 0],\n",
    "            [0, 0, eigenVal[2]]])\n",
    "Dexpt = SetLambda(D, 5)\n",
    "outt500kEigen = Pt500k@Dexpt@Pt500kInv@X0\n",
    "t500kEigenEnd = time.perf_counter_ns()\n",
    "t500kEigenTime = t500kEigenEnd - t500kEigenStart\n",
    "print(f\"\\033[4mEigen Application\\033[00m runtime when t= 500000: \\033[92m {t500kEigenTime} \\033[00m ns\")\n",
    "print(f\"Value: {outt500kEigen} \")"
   ]
  },
  {
   "attachments": {},
   "cell_type": "markdown",
   "metadata": {},
   "source": [
    "จากการทำงานทั้งหมด จะได้เวลาสรุปดังตารางด้านล่าง"
   ]
  },
  {
   "cell_type": "code",
   "execution_count": 20,
   "metadata": {},
   "outputs": [
    {
     "name": "stdout",
     "output_type": "stream",
     "text": [
      "t size|Transformation| EigenApp  \n",
      "     5|\u001b[92m        68700 \u001b[0m| \u001b[91m    263300 \u001b[0m\n",
      "500000|\u001b[91m    381838800 \u001b[0m| \u001b[92m    269200 \u001b[0m\n"
     ]
    }
   ],
   "source": [
    "print(f\"{'t size':6s}|{'Transformation':13s}| {'EigenApp':10s}\")\n",
    "if t5TransTime > t5EigenTime:\n",
    "  print(f\"{5:6d}|\\033[91m{t5TransTime:13d} \\033[0m| \\033[92m{t5EigenTime:10d} \\033[0m\")\n",
    "else:\n",
    "  print(f\"{5:6d}|\\033[92m{t5TransTime:13d} \\033[0m| \\033[91m{t5EigenTime:10d} \\033[0m\")\n",
    "if t500kTransTime > t500kEigenTime:\n",
    "  print(f\"{500000:6d}|\\033[91m{t500kTransTime:13d} \\033[0m| \\033[92m{t500kEigenTime:10d} \\033[0m\")\n",
    "else:\n",
    "  print(f\"{500000:6d}|\\033[92m{t500kTransTime:13d} \\033[0m| \\033[91m{t500kEigenTime:10d} \\033[0m\")  \n"
   ]
  },
  {
   "attachments": {},
   "cell_type": "markdown",
   "metadata": {},
   "source": [
    "2. เราสามารถทำการคิดค่าสถานะการติดเชื้อเมื่อมีค่าที่คงที่แล้วได้โดยที่ไม่จำเป็นต้องทำการคูณไปเรื่อยๆจนกว่าจะได้ช่วงสัปดาห์ที่ต้องการได้หรือไม่ <br>\n",
    "**คำตอบ** สามารถทำได้โดยใช้ **eigenValue** และ **eigenVector** ตามที่อธิบายไว้ในหัวข้อที่3."
   ]
  },
  {
   "cell_type": "markdown",
   "metadata": {},
   "source": []
  }
 ],
 "metadata": {
  "kernelspec": {
   "display_name": "SpeechRec",
   "language": "python",
   "name": "python3"
  },
  "language_info": {
   "codemirror_mode": {
    "name": "ipython",
    "version": 3
   },
   "file_extension": ".py",
   "mimetype": "text/x-python",
   "name": "python",
   "nbconvert_exporter": "python",
   "pygments_lexer": "ipython3",
   "version": "3.9.12"
  },
  "orig_nbformat": 4,
  "vscode": {
   "interpreter": {
    "hash": "86d3a50532539a39c0f3f69ccd557458e38e4ce355bfe9ccdc1627657ba6dfbd"
   }
  }
 },
 "nbformat": 4,
 "nbformat_minor": 2
}
